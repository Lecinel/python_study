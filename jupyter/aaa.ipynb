{
 "cells": [
  {
   "cell_type": "code",
   "execution_count": 1,
   "id": "60e1590d",
   "metadata": {},
   "outputs": [
    {
     "name": "stdout",
     "output_type": "stream",
     "text": [
      "          *\n",
      "         ***\n",
      "        *****\n",
      "       *******\n",
      "      *********\n",
      "     ***********\n",
      "    *************\n",
      "   ***************\n",
      "  *****************\n",
      " *******************\n"
     ]
    }
   ],
   "source": [
    "num = int(input(\"삼각형의 크기를 결정해주세요 :\"))\n",
    "if num > 1:\n",
    "    for i in range(1,num*2,2):\n",
    "        print(\" \"*int(num-(i/2)), \"*\"*i)\n",
    "else:\n",
    "    print(\"잘못된 값을 입력하였습니다.\")"
   ]
  },
  {
   "cell_type": "code",
   "execution_count": 2,
   "id": "32d8fddd",
   "metadata": {},
   "outputs": [
    {
     "name": "stdout",
     "output_type": "stream",
     "text": [
      "101\n"
     ]
    }
   ],
   "source": [
    "decimal = int(input(\"십진수를 입력해주세요\"))\n",
    "\n",
    "l1 = []\n",
    "\n",
    "while(decimal / 2 > 0):\n",
    "    if decimal == 1 :\n",
    "        l1.insert(0,1)\n",
    "\n",
    "    elif decimal % 2 == 0:\n",
    "        l1.insert(0,0)\n",
    "    else:\n",
    "        l1.insert(0,1)\n",
    "\n",
    "    decimal = int(decimal /2)\n",
    "print(''.join(str(i) for i in l1))"
   ]
  },
  {
   "cell_type": "code",
   "execution_count": null,
   "id": "a104bf70",
   "metadata": {},
   "outputs": [],
   "source": [
    "\n"
   ]
  }
 ],
 "metadata": {
  "kernelspec": {
   "display_name": "my_venv",
   "language": "python",
   "name": "python3"
  },
  "language_info": {
   "codemirror_mode": {
    "name": "ipython",
    "version": 3
   },
   "file_extension": ".py",
   "mimetype": "text/x-python",
   "name": "python",
   "nbconvert_exporter": "python",
   "pygments_lexer": "ipython3",
   "version": "3.12.5"
  }
 },
 "nbformat": 4,
 "nbformat_minor": 5
}
