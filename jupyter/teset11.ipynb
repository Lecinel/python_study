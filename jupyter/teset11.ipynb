{
 "cells": [
  {
   "cell_type": "code",
   "execution_count": 8,
   "id": "7e6fca19",
   "metadata": {},
   "outputs": [
    {
     "name": "stdout",
     "output_type": "stream",
     "text": [
      "Hello World\n",
      "Hello World\n",
      "\"Hello World\"\n"
     ]
    }
   ],
   "source": [
    "print(\"Hello World\")\n",
    "print('Hello World')\n",
    "print('\"Hello World\"')"
   ]
  },
  {
   "cell_type": "code",
   "execution_count": 9,
   "id": "07d67a50",
   "metadata": {},
   "outputs": [
    {
     "name": "stdout",
     "output_type": "stream",
     "text": [
      "10 20 30\n"
     ]
    }
   ],
   "source": [
    "a = 10\n",
    "b = 20\n",
    "c = 30\n",
    "print(a,b,c)"
   ]
  },
  {
   "cell_type": "code",
   "execution_count": 10,
   "id": "7c8ce3b7",
   "metadata": {},
   "outputs": [
    {
     "name": "stdout",
     "output_type": "stream",
     "text": [
      "<class 'int'>\n",
      "4.141592\n",
      "<class 'float'>\n"
     ]
    }
   ],
   "source": [
    "pi = 3.141592\n",
    "a = 1 \n",
    "print(type(a))\n",
    "print(pi + a)\n",
    "a = 3.14\n",
    "print(type(a))"
   ]
  },
  {
   "cell_type": "code",
   "execution_count": 11,
   "id": "c564ab9f",
   "metadata": {},
   "outputs": [],
   "source": [
    "TAX_RATE = 0.35\n",
    "PI = 3.141592\n",
    "MAX_SIZE = 100"
   ]
  },
  {
   "cell_type": "code",
   "execution_count": 12,
   "id": "ed989244",
   "metadata": {},
   "outputs": [
    {
     "name": "stdout",
     "output_type": "stream",
     "text": [
      "현재의 세율은 35.0 %입니다.\n"
     ]
    }
   ],
   "source": [
    "tax = 1000 * TAX_RATE\n",
    "income = 1000 - tax\n",
    "print(\"현재의 세율은 {0} %입니다.\".format(TAX_RATE * 100))"
   ]
  },
  {
   "cell_type": "code",
   "execution_count": 13,
   "id": "fd4d7d6a",
   "metadata": {},
   "outputs": [
    {
     "name": "stdout",
     "output_type": "stream",
     "text": [
      "200\n"
     ]
    }
   ],
   "source": [
    "width = 10\n",
    "height = 20\n",
    "area = width * height\n",
    "print(area)"
   ]
  },
  {
   "cell_type": "code",
   "execution_count": 17,
   "id": "401d7a25",
   "metadata": {},
   "outputs": [
    {
     "name": "stdout",
     "output_type": "stream",
     "text": [
      "7\n"
     ]
    }
   ],
   "source": [
    "print(1 + 2 * 3)"
   ]
  },
  {
   "cell_type": "code",
   "execution_count": 26,
   "id": "096afd82",
   "metadata": {},
   "outputs": [
    {
     "name": "stdout",
     "output_type": "stream",
     "text": [
      "50\n"
     ]
    }
   ],
   "source": [
    "print(max (10, 50))"
   ]
  },
  {
   "cell_type": "code",
   "execution_count": 28,
   "id": "5e287179",
   "metadata": {},
   "outputs": [],
   "source": [
    "import math"
   ]
  },
  {
   "cell_type": "code",
   "execution_count": 44,
   "id": "aa7c4211",
   "metadata": {},
   "outputs": [
    {
     "name": "stdout",
     "output_type": "stream",
     "text": [
      "7\n"
     ]
    }
   ],
   "source": [
    "num1, num2 = map(int,(input(\"number 2 input \").split()))\n",
    "print(num1 + num2)"
   ]
  },
  {
   "cell_type": "code",
   "execution_count": null,
   "id": "9704e87f",
   "metadata": {},
   "outputs": [
    {
     "name": "stdout",
     "output_type": "stream",
     "text": [
      "상품의 가격은 10000원입니다.\n"
     ]
    }
   ],
   "source": [
    "price = 10000\n",
    "print(\"상품의 가격은 %s원입니다.\" %price)"
   ]
  },
  {
   "cell_type": "code",
   "execution_count": 61,
   "id": "c0941dac",
   "metadata": {},
   "outputs": [
    {
     "name": "stdout",
     "output_type": "stream",
     "text": [
      "현재 시간은 12시 30분입니다.\n"
     ]
    }
   ],
   "source": [
    "message = \"현재 시간은 %d시 %d분입니다.\"\n",
    "hout = 12\n",
    "mini = 30\n",
    "print(message %(hout,mini))"
   ]
  },
  {
   "cell_type": "code",
   "execution_count": 70,
   "id": "38b706e5",
   "metadata": {},
   "outputs": [
    {
     "name": "stdout",
     "output_type": "stream",
     "text": [
      "오늘은 2024년5월 13일 입니다.\n"
     ]
    }
   ],
   "source": [
    "year, month, day = input(\"년,월,일을(를) 입력해주세요\").split()\n",
    "\n",
    "message = \"오늘은 %s년%s월 %s일 입니다.\"\n",
    "print(message %(year, month, day))"
   ]
  },
  {
   "cell_type": "code",
   "execution_count": 80,
   "id": "b6049827",
   "metadata": {},
   "outputs": [
    {
     "name": "stdout",
     "output_type": "stream",
     "text": [
      "정수의 합: 30 차: -10 곱: 200 평균: 15.0 큰수: 20 작은수: 10\n"
     ]
    }
   ],
   "source": [
    "num1, num2 = map(int,input(\"정수 두개를 입력해주세요\").split())\n",
    "print(\"정수의 합: {0} 차: {1} 곱: {2} 평균: {3} 큰수: {4} 작은수: {5}\".format(num1+num2, num1-num2, num1 * num2, (num1 + num2)/2,max(num1, num2),min(num1, num2)))"
   ]
  },
  {
   "cell_type": "code",
   "execution_count": null,
   "id": "d60d8825",
   "metadata": {},
   "outputs": [],
   "source": [
    "\n"
   ]
  },
  {
   "cell_type": "code",
   "execution_count": null,
   "id": "3dfa6edb",
   "metadata": {},
   "outputs": [],
   "source": []
  }
 ],
 "metadata": {
  "kernelspec": {
   "display_name": "my_venv",
   "language": "python",
   "name": "python3"
  },
  "language_info": {
   "codemirror_mode": {
    "name": "ipython",
    "version": 3
   },
   "file_extension": ".py",
   "mimetype": "text/x-python",
   "name": "python",
   "nbconvert_exporter": "python",
   "pygments_lexer": "ipython3",
   "version": "3.12.5"
  }
 },
 "nbformat": 4,
 "nbformat_minor": 5
}
